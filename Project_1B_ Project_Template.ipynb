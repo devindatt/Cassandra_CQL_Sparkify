{
 "cells": [
  {
   "cell_type": "markdown",
   "metadata": {},
   "source": [
    "# Part I. ETL Pipeline for Pre-Processing the Files"
   ]
  },
  {
   "cell_type": "markdown",
   "metadata": {},
   "source": [
    "## PLEASE RUN THE FOLLOWING CODE FOR PRE-PROCESSING THE FILES"
   ]
  },
  {
   "cell_type": "markdown",
   "metadata": {},
   "source": [
    "#### Import Python packages "
   ]
  },
  {
   "cell_type": "code",
   "execution_count": 277,
   "metadata": {},
   "outputs": [],
   "source": [
    "# Import Python packages \n",
    "import pandas as pd\n",
    "import cassandra\n",
    "import re\n",
    "import os\n",
    "import glob\n",
    "import numpy as np\n",
    "import json\n",
    "import csv"
   ]
  },
  {
   "cell_type": "markdown",
   "metadata": {},
   "source": [
    "#### Creating list of filepaths to process original event csv data files"
   ]
  },
  {
   "cell_type": "code",
   "execution_count": 278,
   "metadata": {},
   "outputs": [
    {
     "name": "stdout",
     "output_type": "stream",
     "text": [
      "/home/workspace\n",
      "['/home/workspace/event_data/2018-11-07-events.csv', '/home/workspace/event_data/2018-11-24-events.csv', '/home/workspace/event_data/2018-11-04-events.csv', '/home/workspace/event_data/2018-11-17-events.csv', '/home/workspace/event_data/2018-11-23-events.csv', '/home/workspace/event_data/2018-11-21-events.csv', '/home/workspace/event_data/2018-11-15-events.csv', '/home/workspace/event_data/2018-11-08-events.csv', '/home/workspace/event_data/2018-11-11-events.csv', '/home/workspace/event_data/2018-11-06-events.csv', '/home/workspace/event_data/2018-11-25-events.csv', '/home/workspace/event_data/2018-11-02-events.csv', '/home/workspace/event_data/2018-11-30-events.csv', '/home/workspace/event_data/2018-11-29-events.csv', '/home/workspace/event_data/2018-11-05-events.csv', '/home/workspace/event_data/2018-11-26-events.csv', '/home/workspace/event_data/2018-11-28-events.csv', '/home/workspace/event_data/2018-11-14-events.csv', '/home/workspace/event_data/2018-11-22-events.csv', '/home/workspace/event_data/2018-11-01-events.csv', '/home/workspace/event_data/2018-11-16-events.csv', '/home/workspace/event_data/2018-11-03-events.csv', '/home/workspace/event_data/2018-11-12-events.csv', '/home/workspace/event_data/2018-11-13-events.csv', '/home/workspace/event_data/2018-11-27-events.csv', '/home/workspace/event_data/2018-11-18-events.csv', '/home/workspace/event_data/2018-11-20-events.csv', '/home/workspace/event_data/2018-11-19-events.csv', '/home/workspace/event_data/2018-11-09-events.csv', '/home/workspace/event_data/2018-11-10-events.csv']\n"
     ]
    }
   ],
   "source": [
    "# checking your current working directory\n",
    "print(os.getcwd())\n",
    "\n",
    "# Get your current folder and subfolder event data\n",
    "filepath = os.getcwd() + '/event_data'\n",
    "\n",
    "# Create a for loop to create a list of files and collect each filepath\n",
    "for root, dirs, files in os.walk(filepath):\n",
    "    \n",
    "# join the file path and roots with the subdirectories using glob\n",
    "    file_path_list = glob.glob(os.path.join(root,'*'))\n",
    "    print(file_path_list)"
   ]
  },
  {
   "cell_type": "markdown",
   "metadata": {},
   "source": [
    "#### Processing the files to create the data file csv that will be used for Apache Casssandra tables"
   ]
  },
  {
   "cell_type": "code",
   "execution_count": 279,
   "metadata": {},
   "outputs": [
    {
     "name": "stdout",
     "output_type": "stream",
     "text": [
      "8056\n"
     ]
    }
   ],
   "source": [
    "# initiating an empty list of rows that will be generated from each file\n",
    "full_data_rows_list = [] \n",
    "    \n",
    "# for every filepath in the file path list \n",
    "for f in file_path_list:\n",
    "\n",
    "# reading csv file \n",
    "    with open(f, 'r', encoding = 'utf8', newline='') as csvfile: \n",
    "        # creating a csv reader object \n",
    "        csvreader = csv.reader(csvfile) \n",
    "        next(csvreader)\n",
    "        \n",
    " # extracting each data row one by one and append it        \n",
    "        for line in csvreader:\n",
    "            #print(line)\n",
    "            full_data_rows_list.append(line) \n",
    "            \n",
    "# uncomment the code below if you would like to get total number of rows \n",
    "print(len(full_data_rows_list))\n",
    "# uncomment the code below if you would like to check to see what the list of event data rows will look like\n",
    "#print(full_data_rows_list)\n",
    "\n",
    "# creating a smaller event data csv file called event_datafile_full csv that will be used to insert data into the \\\n",
    "# Apache Cassandra tables\n",
    "csv.register_dialect('myDialect', quoting=csv.QUOTE_ALL, skipinitialspace=True)\n",
    "\n",
    "with open('event_datafile_new.csv', 'w', encoding = 'utf8', newline='') as f:\n",
    "    writer = csv.writer(f, dialect='myDialect')\n",
    "    writer.writerow(['artist','firstName','gender','itemInSession','lastName','length',\\\n",
    "                'level','location','sessionId','song','userId'])\n",
    "    for row in full_data_rows_list:\n",
    "        if (row[0] == ''):\n",
    "            continue\n",
    "        writer.writerow((row[0], row[2], row[3], row[4], row[5], row[6], row[7], row[8], row[12], row[13], row[16]))\n"
   ]
  },
  {
   "cell_type": "code",
   "execution_count": 280,
   "metadata": {},
   "outputs": [
    {
     "name": "stdout",
     "output_type": "stream",
     "text": [
      "6821\n"
     ]
    }
   ],
   "source": [
    "# check the number of rows in your csv file\n",
    "with open('event_datafile_new.csv', 'r', encoding = 'utf8') as f:\n",
    "    print(sum(1 for line in f))"
   ]
  },
  {
   "cell_type": "markdown",
   "metadata": {},
   "source": [
    "# Part II. Complete the Apache Cassandra coding portion of your project. \n",
    "\n",
    "## Now you are ready to work with the CSV file titled <font color=red>event_datafile_new.csv</font>, located within the Workspace directory.  The event_datafile_new.csv contains the following columns: \n",
    "- artist \n",
    "- firstName of user\n",
    "- gender of user\n",
    "- item number in session\n",
    "- last name of user\n",
    "- length of the song\n",
    "- level (paid or free song)\n",
    "- location of the user\n",
    "- sessionId\n",
    "- song title\n",
    "- userId\n",
    "\n",
    "The image below is a screenshot of what the denormalized data should appear like in the <font color=red>**event_datafile_new.csv**</font> after the code above is run:<br>\n",
    "\n",
    "<img src=\"images/image_event_datafile_new.jpg\">"
   ]
  },
  {
   "cell_type": "markdown",
   "metadata": {},
   "source": [
    "## Begin writing your Apache Cassandra code in the cells below"
   ]
  },
  {
   "cell_type": "markdown",
   "metadata": {},
   "source": [
    "#### Creating a Cluster"
   ]
  },
  {
   "cell_type": "code",
   "execution_count": 281,
   "metadata": {},
   "outputs": [],
   "source": [
    "# This should make a connection to a Cassandra instance your local machine \n",
    "# (127.0.0.1)\n",
    "\n",
    "from cassandra.cluster import Cluster\n",
    "\n",
    "try: \n",
    "    cluster = Cluster(['127.0.0.1']) \n",
    "    session = cluster.connect()\n",
    "except Exception as e:\n",
    "    print(e)\n",
    "\n",
    "    \n",
    "# To establish connection and begin executing queries, need a session\n",
    "session = cluster.connect()"
   ]
  },
  {
   "cell_type": "markdown",
   "metadata": {},
   "source": [
    "#### Create Keyspace"
   ]
  },
  {
   "cell_type": "code",
   "execution_count": 282,
   "metadata": {},
   "outputs": [],
   "source": [
    "# TO-DO: Create a Keyspace \n",
    "try:\n",
    "    session.execute(\"\"\"\n",
    "    CREATE KEYSPACE IF NOT EXISTS dend_proj2\n",
    "    WITH REPLICATION = \n",
    "    { 'class' : 'SimpleStrategy', 'replication_factor' : 1 }\"\"\"\n",
    ")\n",
    "\n",
    "except Exception as e:\n",
    "    print(e)"
   ]
  },
  {
   "cell_type": "markdown",
   "metadata": {},
   "source": [
    "#### Set Keyspace"
   ]
  },
  {
   "cell_type": "code",
   "execution_count": 283,
   "metadata": {},
   "outputs": [],
   "source": [
    "# TO-DO: Set KEYSPACE to the keyspace specified above\n",
    "try:\n",
    "    session.set_keyspace('dend_proj2')\n",
    "except Exception as e:\n",
    "    print(e)"
   ]
  },
  {
   "cell_type": "markdown",
   "metadata": {},
   "source": [
    "## Create queries to ask the following three questions of the data"
   ]
  },
  {
   "cell_type": "markdown",
   "metadata": {},
   "source": [
    "### 1. Give me the artist, song title and song's length in the music app history that was heard during  sessionId = 338, and itemInSession  = 4"
   ]
  },
  {
   "cell_type": "markdown",
   "metadata": {},
   "source": [
    "### Create table to run the following queries based on the query 1"
   ]
  },
  {
   "cell_type": "code",
   "execution_count": 284,
   "metadata": {},
   "outputs": [],
   "source": [
    "#Keys Available:\n",
    "#artist text[0], firstName text[1], gender text[2], itemInSession text[3], lastName text[4], \n",
    "#length text[5], level text[6], location text[7], sessionId text[8], song text[9], userId text[10] "
   ]
  },
  {
   "cell_type": "code",
   "execution_count": 285,
   "metadata": {},
   "outputs": [],
   "source": [
    "#QUERY 1 - keys needed:\n",
    "#SELECT:     artist text[0], song text[9], length text[5]\n",
    "#WHERE:  itemInSession text[3] = 4 , sessionId text[8] = 338,"
   ]
  },
  {
   "cell_type": "code",
   "execution_count": 286,
   "metadata": {},
   "outputs": [],
   "source": [
    "query = \"CREATE TABLE IF NOT EXISTS session338_library \"\n",
    "query = query + \"(artist text, song text, length text, sessionId text, itemInSession text,  \\\n",
    "                  PRIMARY KEY (sessionId, itemInSession))\"\n",
    "try:\n",
    "    session.execute(query)\n",
    "except Exception as e:\n",
    "    print(e)"
   ]
  },
  {
   "cell_type": "code",
   "execution_count": 287,
   "metadata": {
    "scrolled": false
   },
   "outputs": [],
   "source": [
    "# We have provided part of the code to set up the CSV file. Please complete the Apache Cassandra code below#\n",
    "file = 'event_datafile_new.csv'\n",
    "\n",
    "with open(file, encoding = 'utf8') as f:\n",
    "    csvreader = csv.reader(f)\n",
    "    next(csvreader) # skip header\n",
    "    for line in csvreader:\n",
    "## TO-DO: Assign the INSERT statements into the `query` variable\n",
    "        \n",
    "        query = \"INSERT INTO session338_library (artist, song, length, sessionId, itemInSession)\"\n",
    "        query = query + \" VALUES (%s, %s, %s, %s, %s)\"\n",
    "\n",
    "        session.execute(query, (line[0], line[9], line[5], line[8], line[3]))"
   ]
  },
  {
   "cell_type": "code",
   "execution_count": 288,
   "metadata": {
    "scrolled": true
   },
   "outputs": [
    {
     "name": "stdout",
     "output_type": "stream",
     "text": [
      "Row(sessionid='338', iteminsession='1', artist='Pixies', length='89.36444', song='Build High')\n",
      "Row(sessionid='338', iteminsession='2', artist='The Roots / Jack Davey', length='155.95057', song='Atonement')\n",
      "Row(sessionid='338', iteminsession='3', artist='Mike And The Mechanics', length='275.12118', song='A Beggar On A Beach Of Gold')\n",
      "Row(sessionid='338', iteminsession='4', artist='Faithless', length='495.3073', song='Music Matters (Mark Knight Dub)')\n"
     ]
    }
   ],
   "source": [
    "## Add in the SELECT statement to verify the data was entered into the table\n",
    "query = \"SELECT * FROM session338_library \\\n",
    "         WHERE sessionId = '338' \"\n",
    "try:\n",
    "    rows = session.execute(query)\n",
    "except Exception as e:\n",
    "    print(e)\n",
    "    \n",
    "for row in rows:\n",
    "    print(row)\n",
    "        \n",
    "#    print (row.itemInSession, row.sessionId, row.artist, row.song, row.length)"
   ]
  },
  {
   "cell_type": "code",
   "execution_count": 289,
   "metadata": {},
   "outputs": [
    {
     "name": "stdout",
     "output_type": "stream",
     "text": [
      "Faithless Music Matters (Mark Knight Dub) 495.3073\n"
     ]
    }
   ],
   "source": [
    "## Query 1:  Give me the artist, song title and song's length in the music app history that was heard during \\\n",
    "## sessionId = 338, and itemInSession = 4\n",
    "\n",
    "query = \"SELECT artist, song, length FROM session338_library \\\n",
    "         WHERE sessionId = '338' AND itemInSession = '4' \"\n",
    "try:\n",
    "    rows = session.execute(query)\n",
    "except Exception as e:\n",
    "    print(e)\n",
    "    \n",
    "for row in rows:\n",
    "    print (row.artist, row.song, row.length)"
   ]
  },
  {
   "cell_type": "markdown",
   "metadata": {},
   "source": [
    " "
   ]
  },
  {
   "cell_type": "code",
   "execution_count": null,
   "metadata": {},
   "outputs": [],
   "source": []
  },
  {
   "cell_type": "markdown",
   "metadata": {},
   "source": [
    "### 2. Give me only the following: name of artist, song (sorted by itemInSession) and user (first and last name) for userid = 10, sessionid = 182"
   ]
  },
  {
   "cell_type": "code",
   "execution_count": 290,
   "metadata": {},
   "outputs": [],
   "source": [
    "# Available keys:\n",
    "#artist text[0], firstName text[1], gender text[2], itemInSession text[3], lastName text[4], \n",
    "#length text[5], level text[6], location text[7], sessionId text[8], song text[9], userId text[10] "
   ]
  },
  {
   "cell_type": "code",
   "execution_count": 291,
   "metadata": {},
   "outputs": [],
   "source": [
    "## Query 2: keys needed:\n",
    "#SELECT:    artist text[0], song text[9]\n",
    "#WHERE:     sessionId text[8] = 182, userId text[10] = 10\n",
    "#ORDER BY:  itemInSession text[3], firstName text[1], lastName text[4]"
   ]
  },
  {
   "cell_type": "code",
   "execution_count": 292,
   "metadata": {},
   "outputs": [],
   "source": [
    "query = \"CREATE TABLE IF NOT EXISTS session182_songlog \"\n",
    "query = query + \"(artist text, song text, itemInSession text, firstName text, \\\n",
    "                  lastName text, sessionId text, userId text, PRIMARY KEY ((sessionId, userId), itemInSession, firstName, lastName))\"\n",
    "try:\n",
    "    session.execute(query)\n",
    "except Exception as e:\n",
    "    print(e)"
   ]
  },
  {
   "cell_type": "code",
   "execution_count": 293,
   "metadata": {},
   "outputs": [],
   "source": [
    "# We have provided part of the code to set up the CSV file. Please complete the Apache Cassandra code below#\n",
    "file = 'event_datafile_new.csv'\n",
    "\n",
    "with open(file, encoding = 'utf8') as f:\n",
    "    csvreader = csv.reader(f)\n",
    "    next(csvreader) # skip header\n",
    "    for line in csvreader:\n",
    "## TO-DO: Assign the INSERT statements into the `query` variable\n",
    "        \n",
    "        query = \"INSERT INTO session182_songlog (artist, song, itemInSession, firstName, \\\n",
    "                                            lastName, sessionId, userId)\"\n",
    "        query = query + \" VALUES (%s, %s, %s, %s, %s, %s, %s)\"\n",
    "\n",
    "        session.execute(query, (line[0], line[9], line[3], line[1], line[4], line[8], line[10]))"
   ]
  },
  {
   "cell_type": "code",
   "execution_count": 294,
   "metadata": {},
   "outputs": [
    {
     "name": "stdout",
     "output_type": "stream",
     "text": [
      "Row(sessionid='269', userid='44', firstname='Aleena', lastname='Kirby', artist='Feist', song='My Moon My Man', iteminsession='10')\n",
      "Row(sessionid='269', userid='44', firstname='Aleena', lastname='Kirby', artist='Flobots', song='Handlebars (UK Radio Edit)', iteminsession='11')\n",
      "Row(sessionid='269', userid='44', firstname='Aleena', lastname='Kirby', artist='Dwight Yoakam', song=\"You're The One\", iteminsession='12')\n",
      "Row(sessionid='269', userid='44', firstname='Aleena', lastname='Kirby', artist='The Pussycat Dolls', song='When I Grow Up', iteminsession='13')\n",
      "Row(sessionid='269', userid='44', firstname='Aleena', lastname='Kirby', artist='The Prodigy', song='Omen', iteminsession='14')\n",
      "Row(sessionid='269', userid='44', firstname='Aleena', lastname='Kirby', artist='Caifanes', song='Cuentame Tu Vida', iteminsession='15')\n",
      "Row(sessionid='269', userid='44', firstname='Aleena', lastname='Kirby', artist='Jimmy Buffett', song='He Went To Paris', iteminsession='19')\n",
      "Row(sessionid='269', userid='44', firstname='Aleena', lastname='Kirby', artist='Kinky', song='Cornman', iteminsession='2')\n",
      "Row(sessionid='269', userid='44', firstname='Aleena', lastname='Kirby', artist='Counting Crows', song='Mr. Jones', iteminsession='20')\n",
      "Row(sessionid='269', userid='44', firstname='Aleena', lastname='Kirby', artist='8Ball & MJG', song='Intro (Explicit Album Version)', iteminsession='21')\n",
      "Row(sessionid='269', userid='44', firstname='Aleena', lastname='Kirby', artist=\"SinÃ\\x83Â©ad O'Connor\", song='I Want Your (Hands On Me)', iteminsession='22')\n",
      "Row(sessionid='269', userid='44', firstname='Aleena', lastname='Kirby', artist='Vince Guaraldi Trio', song='Christmastime Is Here', iteminsession='23')\n",
      "Row(sessionid='269', userid='44', firstname='Aleena', lastname='Kirby', artist='B*Witched', song=\"C'est La Vie\", iteminsession='24')\n",
      "Row(sessionid='269', userid='44', firstname='Aleena', lastname='Kirby', artist='Gyptian', song='Love Against the Wall', iteminsession='25')\n",
      "Row(sessionid='269', userid='44', firstname='Aleena', lastname='Kirby', artist='The Ataris', song=\"I Won't Spend Another Night Alone\", iteminsession='26')\n",
      "Row(sessionid='269', userid='44', firstname='Aleena', lastname='Kirby', artist='Adam Green', song='You Get So Lucky', iteminsession='27')\n",
      "Row(sessionid='269', userid='44', firstname='Aleena', lastname='Kirby', artist='Marilyn Manson', song='Personal Jesus', iteminsession='28')\n",
      "Row(sessionid='269', userid='44', firstname='Aleena', lastname='Kirby', artist='Bobby Blue Bland', song='I Pity the Fool', iteminsession='29')\n",
      "Row(sessionid='269', userid='44', firstname='Aleena', lastname='Kirby', artist='Nickel Creek', song=\"The Lighthouse's Tale\", iteminsession='3')\n",
      "Row(sessionid='269', userid='44', firstname='Aleena', lastname='Kirby', artist='David Banner', song='Play', iteminsession='30')\n",
      "Row(sessionid='269', userid='44', firstname='Aleena', lastname='Kirby', artist='We The Kings featuring Demi Lovato', song=\"We'll Be A Dream (featuring Demi Lovato)\", iteminsession='31')\n",
      "Row(sessionid='269', userid='44', firstname='Aleena', lastname='Kirby', artist='Emiliana Torrini', song='Birds', iteminsession='32')\n",
      "Row(sessionid='269', userid='44', firstname='Aleena', lastname='Kirby', artist='Linkin Park', song='New Divide (Album Version)', iteminsession='33')\n",
      "Row(sessionid='269', userid='44', firstname='Aleena', lastname='Kirby', artist='Los Bunkers', song='Te Vistes Y Te Vas', iteminsession='34')\n",
      "Row(sessionid='269', userid='44', firstname='Aleena', lastname='Kirby', artist='Ween', song=\"I'm Holding You (LP Version)\", iteminsession='36')\n",
      "Row(sessionid='269', userid='44', firstname='Aleena', lastname='Kirby', artist='DESTRUCTION', song='Dictators Of Cruelty', iteminsession='37')\n",
      "Row(sessionid='269', userid='44', firstname='Aleena', lastname='Kirby', artist='Carla Bruni', song=\"Quelqu'un M'a Dit (Album Version)\", iteminsession='38')\n",
      "Row(sessionid='269', userid='44', firstname='Aleena', lastname='Kirby', artist='En Vogue', song=\"Don't Let Go (Love)\", iteminsession='39')\n",
      "Row(sessionid='269', userid='44', firstname='Aleena', lastname='Kirby', artist='Straylight Run', song='Existentialism On Prom Night (Album Version)', iteminsession='4')\n",
      "Row(sessionid='269', userid='44', firstname='Aleena', lastname='Kirby', artist='Eminem', song='Mockingbird', iteminsession='40')\n",
      "Row(sessionid='269', userid='44', firstname='Aleena', lastname='Kirby', artist='Showbread', song='The Missing Wife', iteminsession='45')\n",
      "Row(sessionid='269', userid='44', firstname='Aleena', lastname='Kirby', artist='Tracie Spencer', song='My First Broken Heart', iteminsession='46')\n",
      "Row(sessionid='269', userid='44', firstname='Aleena', lastname='Kirby', artist='BeyoncÃ\\x83Â©', song='Halo', iteminsession='47')\n",
      "Row(sessionid='269', userid='44', firstname='Aleena', lastname='Kirby', artist='Jack Johnson', song='Better Together', iteminsession='48')\n",
      "Row(sessionid='269', userid='44', firstname='Aleena', lastname='Kirby', artist='Michael BublÃ\\x83Â©', song='Smile (Live)', iteminsession='49')\n",
      "Row(sessionid='269', userid='44', firstname='Aleena', lastname='Kirby', artist='Epica', song='Martyr of the Free Word', iteminsession='50')\n",
      "Row(sessionid='269', userid='44', firstname='Aleena', lastname='Kirby', artist='A Silent Film', song='You Will Leave a Mark', iteminsession='51')\n",
      "Row(sessionid='269', userid='44', firstname='Aleena', lastname='Kirby', artist='BjÃ\\x83Â¶rk', song='Undo', iteminsession='52')\n",
      "Row(sessionid='269', userid='44', firstname='Aleena', lastname='Kirby', artist='Vampire Weekend', song='Cape Cod Kwassa Kwassa (Album)', iteminsession='53')\n",
      "Row(sessionid='269', userid='44', firstname='Aleena', lastname='Kirby', artist='Rammstein', song='BÃ\\x83Â¼ck Dich', iteminsession='54')\n",
      "Row(sessionid='269', userid='44', firstname='Aleena', lastname='Kirby', artist='Junkie XL', song='Broken (featuring Grant Nicholas) (Album Version)', iteminsession='55')\n",
      "Row(sessionid='269', userid='44', firstname='Aleena', lastname='Kirby', artist='Third Eye Blind', song='Company', iteminsession='56')\n",
      "Row(sessionid='269', userid='44', firstname='Aleena', lastname='Kirby', artist='Evanescence', song='Bring Me To Life', iteminsession='57')\n",
      "Row(sessionid='269', userid='44', firstname='Aleena', lastname='Kirby', artist='Jack Johnson', song='Cupid', iteminsession='58')\n",
      "Row(sessionid='269', userid='44', firstname='Aleena', lastname='Kirby', artist='Fergie', song='Clumsy', iteminsession='59')\n",
      "Row(sessionid='269', userid='44', firstname='Aleena', lastname='Kirby', artist='Lily Allen', song='LDN', iteminsession='61')\n",
      "Row(sessionid='269', userid='44', firstname='Aleena', lastname='Kirby', artist='The Black Seeds', song='Dance Dance', iteminsession='62')\n",
      "Row(sessionid='269', userid='44', firstname='Aleena', lastname='Kirby', artist='Cassie', song='Call U Out (Album Version)', iteminsession='63')\n",
      "Row(sessionid='269', userid='44', firstname='Aleena', lastname='Kirby', artist='The Rolling Stones', song='Too Tough (1994 Digital Remaster)', iteminsession='64')\n",
      "Row(sessionid='269', userid='44', firstname='Aleena', lastname='Kirby', artist='Eminem', song='Without Me', iteminsession='65')\n",
      "Row(sessionid='269', userid='44', firstname='Aleena', lastname='Kirby', artist='Creedence Clearwater Revival', song='Sweet Hitch-Hiker', iteminsession='66')\n",
      "Row(sessionid='269', userid='44', firstname='Aleena', lastname='Kirby', artist='Heltah Skeltah', song='Place To Be (Explicit)', iteminsession='67')\n",
      "Row(sessionid='269', userid='44', firstname='Aleena', lastname='Kirby', artist='Redman', song='Pick It Up', iteminsession='68')\n",
      "Row(sessionid='269', userid='44', firstname='Aleena', lastname='Kirby', artist='Camila', song='Alejate De Mi', iteminsession='69')\n",
      "Row(sessionid='269', userid='44', firstname='Aleena', lastname='Kirby', artist='Left Lane Cruiser', song='Amerika', iteminsession='7')\n",
      "Row(sessionid='269', userid='44', firstname='Aleena', lastname='Kirby', artist='Liquid Tension Experiment', song='Paradigm Shift', iteminsession='70')\n",
      "Row(sessionid='269', userid='44', firstname='Aleena', lastname='Kirby', artist='Fleetwood Mac', song='World Turning (LP Version)', iteminsession='71')\n",
      "Row(sessionid='269', userid='44', firstname='Aleena', lastname='Kirby', artist='The Ruts', song='West One (Shine On Me)', iteminsession='72')\n",
      "Row(sessionid='269', userid='44', firstname='Aleena', lastname='Kirby', artist='Staind', song='Everything Changes (Album Version)', iteminsession='73')\n",
      "Row(sessionid='269', userid='44', firstname='Aleena', lastname='Kirby', artist='Chris Brown featuring T-Pain', song='Kiss Kiss', iteminsession='74')\n",
      "Row(sessionid='269', userid='44', firstname='Aleena', lastname='Kirby', artist='Lamb', song='Feela', iteminsession='75')\n",
      "Row(sessionid='269', userid='44', firstname='Aleena', lastname='Kirby', artist='Prince & The New Power Generation [with Eric Leeds on Flute]', song='Gett Off', iteminsession='76')\n",
      "Row(sessionid='269', userid='44', firstname='Aleena', lastname='Kirby', artist='NOFX', song='Monosyllabic Girl', iteminsession='77')\n",
      "Row(sessionid='269', userid='44', firstname='Aleena', lastname='Kirby', artist='Air', song='Venus', iteminsession='78')\n",
      "Row(sessionid='269', userid='44', firstname='Aleena', lastname='Kirby', artist='Rosana', song='Llegaremos a tiempo', iteminsession='79')\n",
      "Row(sessionid='269', userid='44', firstname='Aleena', lastname='Kirby', artist='Amon Amarth', song='Fate Of Norns', iteminsession='8')\n",
      "Row(sessionid='269', userid='44', firstname='Aleena', lastname='Kirby', artist='Snow Patrol', song='Engines', iteminsession='82')\n",
      "Row(sessionid='269', userid='44', firstname='Aleena', lastname='Kirby', artist='Bill Withers', song='Make Love To Your Mind', iteminsession='85')\n",
      "Row(sessionid='269', userid='44', firstname='Aleena', lastname='Kirby', artist='Winds Of Plague', song='Reloaded', iteminsession='9')\n"
     ]
    }
   ],
   "source": [
    "## Add in the SELECT statement to verify the data was entered into the table\n",
    "query = \"SELECT sessionId, userid, firstName, lastName, artist, song, itemInSession  \\\n",
    "         FROM session182_songlog \\\n",
    "         WHERE sessionId = '269' AND userid='44' \";\n",
    "\n",
    "\n",
    "try:\n",
    "    rows = session.execute(query)\n",
    "except Exception as e:\n",
    "    print(e)\n",
    "    \n",
    "for row in rows:\n",
    "    print(row)\n",
    "#    print(row.itemInSession, row.firstName, row.lastName)"
   ]
  },
  {
   "cell_type": "code",
   "execution_count": 295,
   "metadata": {},
   "outputs": [
    {
     "name": "stdout",
     "output_type": "stream",
     "text": [
      "Row(artist='Down To The Bone', song=\"Keep On Keepin' On\")\n",
      "Row(artist='Three Drives', song='Greece 2000')\n",
      "Row(artist='Sebastien Tellier', song='Kilometer')\n",
      "Row(artist='Lonnie Gordon', song='Catch You Baby (Steve Pitron & Max Sanna Radio Edit)')\n"
     ]
    }
   ],
   "source": [
    "# Query 2:  Give me only the following: name of artist, song (sorted by itemInSession) and user (first and last name) \n",
    "#           for userid = 10, sessionid = 182\n",
    "\n",
    "query = \"SELECT artist, song  \\\n",
    "         FROM session182_songlog \\\n",
    "         WHERE sessionId = '182' AND userid = '10'  ORDER BY itemInSession, firstName, lastName\";\n",
    "\n",
    "#sessionId, userId, itemInSession, firstName, lastName\n",
    "\n",
    "\n",
    "try:\n",
    "    rows = session.execute(query)\n",
    "except Exception as e:\n",
    "    print(e)\n",
    "    \n",
    "for row in rows:\n",
    "    print(row)\n",
    "#    print(row.artist, row.song, row.itemInSession, row.firstName, row.lastName)"
   ]
  },
  {
   "cell_type": "code",
   "execution_count": null,
   "metadata": {},
   "outputs": [],
   "source": []
  },
  {
   "cell_type": "markdown",
   "metadata": {},
   "source": [
    "### 3. Give me every user name (first and last) in my music app history who listened to the song 'All Hands Against His Own'"
   ]
  },
  {
   "cell_type": "code",
   "execution_count": 296,
   "metadata": {},
   "outputs": [],
   "source": [
    "# Available keys:\n",
    "#artist text[0], firstName text[1], gender text[2], itemInSession text[3], lastName text[4], \n",
    "#length text[5], level text[6], location text[7], sessionId text[8], song text[9], userId text[10] "
   ]
  },
  {
   "cell_type": "code",
   "execution_count": 297,
   "metadata": {},
   "outputs": [],
   "source": [
    "# Query 3: Keys needed:\n",
    "#SELECT:     firstName text[1], lastName text[4]\n",
    "#SORTED BY: none\n",
    "#WHERE:     song text[9] = 'All Hands Against His Own'"
   ]
  },
  {
   "cell_type": "code",
   "execution_count": 298,
   "metadata": {},
   "outputs": [],
   "source": [
    "query = \"CREATE TABLE IF NOT EXISTS song_all_hands_events \"\n",
    "query = query + \"(firstName text, lastName text, song text, PRIMARY KEY ((song), firstName, lastName))\"\n",
    "try:\n",
    "    session.execute(query)\n",
    "except Exception as e:\n",
    "    print(e)"
   ]
  },
  {
   "cell_type": "code",
   "execution_count": 299,
   "metadata": {},
   "outputs": [],
   "source": [
    "# We have provided part of the code to set up the CSV file. Please complete the Apache Cassandra code below#\n",
    "file = 'event_datafile_new.csv'\n",
    "\n",
    "with open(file, encoding = 'utf8') as f:\n",
    "    csvreader = csv.reader(f)\n",
    "    next(csvreader) # skip header\n",
    "    for line in csvreader:\n",
    "## TO-DO: Assign the INSERT statements into the `query` variable\n",
    "        \n",
    "        query = \"INSERT INTO song_all_hands_events (firstName, lastName, song)\"\n",
    "        query = query + \" VALUES (%s, %s, %s)\"\n",
    "\n",
    "        \n",
    "        ## TO-DO: Assign which column element should be assigned for each column in the INSERT statement.\n",
    "        ## For e.g., to INSERT artist_name and user first_name, you would change the code below to `line[0], line[1]`\n",
    "        session.execute(query, (line[1], line[4], line[9]))"
   ]
  },
  {
   "cell_type": "code",
   "execution_count": 301,
   "metadata": {},
   "outputs": [
    {
     "name": "stdout",
     "output_type": "stream",
     "text": [
      "Row(song='All Hands Against His Own', firstname='Jacqueline', lastname='Lynch')\n",
      "Row(song='All Hands Against His Own', firstname='Sara', lastname='Johnson')\n",
      "Row(song='All Hands Against His Own', firstname='Tegan', lastname='Levine')\n"
     ]
    }
   ],
   "source": [
    "## Add in the SELECT statement to verify the data was entered into the table\n",
    "query = \" SELECT * FROM song_all_hands_events \\\n",
    "          WHERE song='All Hands Against His Own' \"\n",
    "\n",
    "try:\n",
    "    rows = session.execute(query)\n",
    "\n",
    "except Exception as e:\n",
    "    print(e)\n",
    "    \n",
    "for row in rows:\n",
    "    print(row)\n",
    "        \n",
    "#    print (row.itemInSession, row.sessionId, row.artist, row.song, row.length)"
   ]
  },
  {
   "cell_type": "code",
   "execution_count": 302,
   "metadata": {},
   "outputs": [
    {
     "name": "stdout",
     "output_type": "stream",
     "text": [
      "Row(firstname='Jacqueline', lastname='Lynch')\n",
      "Row(firstname='Sara', lastname='Johnson')\n",
      "Row(firstname='Tegan', lastname='Levine')\n"
     ]
    }
   ],
   "source": [
    "## Add in the SELECT statement to verify the data was entered into the table\n",
    "query = \" SELECT firstName, lastName FROM song_all_hands_events  \\\n",
    "          WHERE song = 'All Hands Against His Own'\"\n",
    "\n",
    "#SELECT firstName, lastName WHERE song = 'All Hands Against His Own'\n",
    "try:\n",
    "    rows = session.execute(query)\n",
    "\n",
    "except Exception as e:\n",
    "    print(e)\n",
    "    \n",
    "for row in rows:\n",
    "    print(row)\n",
    "        \n",
    "#    print (row.itemInSession, row.sessionId, row.artist, row.song, row.length)"
   ]
  },
  {
   "cell_type": "markdown",
   "metadata": {},
   "source": [
    "As we can see there is no result for song that equals 'All Hands Against His Own' in this library table."
   ]
  },
  {
   "cell_type": "markdown",
   "metadata": {},
   "source": [
    "### Drop the tables before closing out the sessions"
   ]
  },
  {
   "cell_type": "code",
   "execution_count": 303,
   "metadata": {},
   "outputs": [],
   "source": [
    "## TO-DO: Drop the table before closing out the sessions"
   ]
  },
  {
   "cell_type": "code",
   "execution_count": 304,
   "metadata": {},
   "outputs": [],
   "source": [
    "query = \"drop table session338_library\"\n",
    "try:\n",
    "    rows = session.execute(query)\n",
    "except Exception as e:\n",
    "    print(e)\n",
    "\n",
    "query = \"drop table session182_songlog\"\n",
    "try:\n",
    "    rows = session.execute(query)\n",
    "except Exception as e:\n",
    "    print(e)\n",
    "    \n",
    "query = \"drop table song_all_hands_events\"\n",
    "try:\n",
    "    rows = session.execute(query)\n",
    "except Exception as e:\n",
    "    print(e)"
   ]
  },
  {
   "cell_type": "markdown",
   "metadata": {},
   "source": [
    "### Close the session and cluster connection¶"
   ]
  },
  {
   "cell_type": "code",
   "execution_count": 276,
   "metadata": {},
   "outputs": [],
   "source": [
    "session.shutdown()\n",
    "cluster.shutdown()"
   ]
  },
  {
   "cell_type": "code",
   "execution_count": null,
   "metadata": {},
   "outputs": [],
   "source": []
  },
  {
   "cell_type": "code",
   "execution_count": null,
   "metadata": {},
   "outputs": [],
   "source": []
  }
 ],
 "metadata": {
  "kernelspec": {
   "display_name": "Python 3",
   "language": "python",
   "name": "python3"
  },
  "language_info": {
   "codemirror_mode": {
    "name": "ipython",
    "version": 3
   },
   "file_extension": ".py",
   "mimetype": "text/x-python",
   "name": "python",
   "nbconvert_exporter": "python",
   "pygments_lexer": "ipython3",
   "version": "3.6.3"
  }
 },
 "nbformat": 4,
 "nbformat_minor": 2
}
